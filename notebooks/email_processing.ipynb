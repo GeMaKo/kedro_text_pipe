{
 "cells": [
  {
   "cell_type": "code",
   "execution_count": 107,
   "id": "8e478d05-440e-41f6-9b94-8a96e5de622d",
   "metadata": {},
   "outputs": [],
   "source": [
    "import spacy\n",
    "from spacy.matcher import Matcher"
   ]
  },
  {
   "cell_type": "code",
   "execution_count": 108,
   "id": "caf65efb-ae35-47f3-99d2-2d15f79cad4b",
   "metadata": {},
   "outputs": [],
   "source": [
    "nlp = spacy.load(\"en_core_web_md\")"
   ]
  },
  {
   "cell_type": "code",
   "execution_count": 111,
   "id": "295d5011-5a94-4ebc-a1ef-2a6dc137e761",
   "metadata": {},
   "outputs": [],
   "source": [
    "email_text = \"\"\"\n",
    "    Message-ID: <23440430.1075840343530.JavaMail.evans@thyme>\n",
    "    \n",
    "    Date: Tue, 5 Feb 2002 16:40:23 -0800 (PST)\n",
    "    \n",
    "    From: infrastructure.ubsw@enron.com\n",
    "    \n",
    "    To: canada.dl-ubsw@enron.com, houston.dl-ubsw@enron.com, portland.dl-ubsw@enron.com\n",
    "    \n",
    "    Subject: Quick Tips for the UBSWE migration\n",
    "    \n",
    "    \n",
    "    As of start of business, Wednesday, February 6th, you will have been migrated to the UBSW Energy environment.\n",
    "    Here are a couple of quick tips and reminders to get you going:\n",
    "    \n",
    "    ? You will log in with your Enron NT ID, this will not change\n",
    "    \n",
    "    ? You will be asked to change your password, follow the standard Enron rules\n",
    "    \n",
    "    ? Your desktop will look the same\n",
    "    \n",
    "    ? Email will not be affected until Day 1, on which you will have your new UBSWE email address\n",
    "    \n",
    "    ? All compliant data and email should be copied to the UBSWE environment no later than Midnight (CST), Thursday, February 7, 2002 (see Data Migration Protocol email for compliancy direction)\n",
    "    \n",
    "    ? No data or emails are to be deleted from the system\n",
    "\"\"\""
   ]
  },
  {
   "cell_type": "code",
   "execution_count": 113,
   "id": "cf32a38b-7dcb-4573-b0ee-d9c1119e8a77",
   "metadata": {},
   "outputs": [],
   "source": [
    "doc = nlp(email_text)"
   ]
  },
  {
   "cell_type": "code",
   "execution_count": 114,
   "id": "a8b5b0ca-b543-4337-9386-d0c7a8d26798",
   "metadata": {},
   "outputs": [
    {
     "name": "stdout",
     "output_type": "stream",
     "text": [
      "[('\\n    ', 'SPACE'), ('Message', 'NOUN'), ('-', 'PUNCT'), ('ID', 'NOUN'), (':', 'PUNCT'), ('<', 'X'), ('23440430.1075840343530.JavaMail.evans@thyme', 'NUM'), ('>', 'SYM'), ('\\n    \\n    ', 'SPACE'), ('Date', 'NOUN'), (':', 'PUNCT'), ('Tue', 'ADJ'), (',', 'PUNCT'), ('5', 'NUM'), ('Feb', 'PROPN'), ('2002', 'NUM'), ('16:40:23', 'NUM'), ('-0800', 'PROPN'), ('(', 'PUNCT'), ('PST', 'PROPN'), (')', 'PUNCT'), ('\\n    \\n    ', 'SPACE'), ('From', 'ADP'), (':', 'PUNCT'), ('infrastructure.ubsw@enron.com', 'X'), ('\\n    \\n    ', 'SPACE'), ('To', 'PROPN'), (':', 'PUNCT'), ('canada.dl-ubsw@enron.com', 'PROPN'), (',', 'PUNCT'), ('houston.dl-ubsw@enron.com', 'PROPN'), (',', 'PUNCT'), ('portland.dl-ubsw@enron.com', 'PROPN'), ('\\n    \\n    ', 'SPACE'), ('Subject', 'PROPN'), (':', 'PUNCT'), ('Quick', 'PROPN'), ('Tips', 'NOUN'), ('for', 'ADP'), ('the', 'DET'), ('UBSWE', 'PROPN'), ('migration', 'NOUN'), ('\\n    \\n    \\n    ', 'SPACE'), ('As', 'ADP'), ('of', 'ADP'), ('start', 'NOUN'), ('of', 'ADP'), ('business', 'NOUN'), (',', 'PUNCT'), ('Wednesday', 'PROPN'), (',', 'PUNCT'), ('February', 'PROPN'), ('6th', 'NOUN'), (',', 'PUNCT'), ('you', 'PRON'), ('will', 'AUX'), ('have', 'AUX'), ('been', 'AUX'), ('migrated', 'VERB'), ('to', 'ADP'), ('the', 'DET'), ('UBSW', 'PROPN'), ('Energy', 'PROPN'), ('environment', 'NOUN'), ('.', 'PUNCT'), ('\\n    ', 'SPACE'), ('Here', 'ADV'), ('are', 'AUX'), ('a', 'DET'), ('couple', 'NOUN'), ('of', 'ADP'), ('quick', 'ADJ'), ('tips', 'NOUN'), ('and', 'CCONJ'), ('reminders', 'NOUN'), ('to', 'PART'), ('get', 'VERB'), ('you', 'PRON'), ('going', 'VERB'), (':', 'PUNCT'), ('\\n    \\n    ', 'SPACE'), ('?', 'PUNCT'), ('You', 'PRON'), ('will', 'AUX'), ('log', 'VERB'), ('in', 'ADP'), ('with', 'ADP'), ('your', 'PRON'), ('Enron', 'PROPN'), ('NT', 'PROPN'), ('ID', 'PROPN'), (',', 'PUNCT'), ('this', 'PRON'), ('will', 'AUX'), ('not', 'PART'), ('change', 'VERB'), ('\\n    \\n    ', 'SPACE'), ('?', 'PUNCT'), ('You', 'PRON'), ('will', 'AUX'), ('be', 'AUX'), ('asked', 'VERB'), ('to', 'PART'), ('change', 'VERB'), ('your', 'PRON'), ('password', 'NOUN'), (',', 'PUNCT'), ('follow', 'VERB'), ('the', 'DET'), ('standard', 'ADJ'), ('Enron', 'PROPN'), ('rules', 'NOUN'), ('\\n    \\n    ', 'SPACE'), ('?', 'PUNCT'), ('Your', 'PRON'), ('desktop', 'NOUN'), ('will', 'AUX'), ('look', 'VERB'), ('the', 'DET'), ('same', 'ADJ'), ('\\n    \\n    ', 'SPACE'), ('?', 'PUNCT'), ('Email', 'NOUN'), ('will', 'AUX'), ('not', 'PART'), ('be', 'AUX'), ('affected', 'VERB'), ('until', 'ADP'), ('Day', 'PROPN'), ('1', 'NUM'), (',', 'PUNCT'), ('on', 'ADP'), ('which', 'PRON'), ('you', 'PRON'), ('will', 'AUX'), ('have', 'VERB'), ('your', 'PRON'), ('new', 'ADJ'), ('UBSWE', 'PROPN'), ('email', 'NOUN'), ('address', 'NOUN'), ('\\n    \\n    ', 'SPACE'), ('?', 'PUNCT'), ('All', 'DET'), ('compliant', 'ADJ'), ('data', 'NOUN'), ('and', 'CCONJ'), ('email', 'NOUN'), ('should', 'AUX'), ('be', 'AUX'), ('copied', 'VERB'), ('to', 'ADP'), ('the', 'DET'), ('UBSWE', 'PROPN'), ('environment', 'NOUN'), ('no', 'ADV'), ('later', 'ADV'), ('than', 'ADP'), ('Midnight', 'PROPN'), ('(', 'PUNCT'), ('CST', 'PROPN'), (')', 'PUNCT'), (',', 'PUNCT'), ('Thursday', 'PROPN'), (',', 'PUNCT'), ('February', 'PROPN'), ('7', 'NUM'), (',', 'PUNCT'), ('2002', 'NUM'), ('(', 'PUNCT'), ('see', 'VERB'), ('Data', 'PROPN'), ('Migration', 'PROPN'), ('Protocol', 'PROPN'), ('email', 'NOUN'), ('for', 'ADP'), ('compliancy', 'NOUN'), ('direction', 'NOUN'), (')', 'PUNCT'), ('\\n    \\n    ', 'SPACE'), ('?', 'PUNCT'), ('No', 'DET'), ('data', 'NOUN'), ('or', 'CCONJ'), ('emails', 'NOUN'), ('are', 'AUX'), ('to', 'PART'), ('be', 'AUX'), ('deleted', 'VERB'), ('from', 'ADP'), ('the', 'DET'), ('system', 'NOUN'), ('\\n', 'SPACE')]\n"
     ]
    }
   ],
   "source": [
    "print([(token.text, token.pos_) for token in doc])"
   ]
  },
  {
   "cell_type": "code",
   "execution_count": 116,
   "id": "a7b55399-3f6c-45df-8c27-bb7e902e7f88",
   "metadata": {},
   "outputs": [
    {
     "data": {
      "text/plain": [
       "(300,)"
      ]
     },
     "execution_count": 116,
     "metadata": {},
     "output_type": "execute_result"
    }
   ],
   "source": [
    "doc.vector.shape"
   ]
  },
  {
   "cell_type": "code",
   "execution_count": null,
   "id": "6b108744-d25d-4124-a2c7-f719b9aa08c1",
   "metadata": {},
   "outputs": [],
   "source": [
    "doc_vectors.append(doc.vector.shape)"
   ]
  }
 ],
 "metadata": {
  "kernelspec": {
   "display_name": "Python 3 (ipykernel)",
   "language": "python",
   "name": "python3"
  },
  "language_info": {
   "codemirror_mode": {
    "name": "ipython",
    "version": 3
   },
   "file_extension": ".py",
   "mimetype": "text/x-python",
   "name": "python",
   "nbconvert_exporter": "python",
   "pygments_lexer": "ipython3",
   "version": "3.11.6"
  }
 },
 "nbformat": 4,
 "nbformat_minor": 5
}
